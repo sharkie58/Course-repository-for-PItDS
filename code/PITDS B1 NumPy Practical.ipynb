{
 "cells": [
  {
   "cell_type": "markdown",
   "id": "0d3fc6e2",
   "metadata": {},
   "source": [
    "# Practical Introduction to Data Science: NumPy Practical (1)"
   ]
  },
  {
   "cell_type": "markdown",
   "id": "5079b3b5",
   "metadata": {},
   "source": [
    "Source file for tutorial: https://python-course.eu/numerical-programming/introduction-to-numpy.php"
   ]
  },
  {
   "cell_type": "markdown",
   "id": "d0eb43c4",
   "metadata": {},
   "source": [
    "## Introduction to NumPy"
   ]
  },
  {
   "cell_type": "code",
   "execution_count": 1,
   "id": "e0418004",
   "metadata": {},
   "outputs": [],
   "source": [
    "import numpy"
   ]
  },
  {
   "cell_type": "code",
   "execution_count": 2,
   "id": "ff405ccf",
   "metadata": {},
   "outputs": [],
   "source": [
    "import numpy as np #more common to see as np"
   ]
  },
  {
   "cell_type": "markdown",
   "id": "8b8255da",
   "metadata": {},
   "source": [
    "### Example 1: Converting a list of temperatures to Fahrenheit"
   ]
  },
  {
   "cell_type": "code",
   "execution_count": 3,
   "id": "57653e90",
   "metadata": {},
   "outputs": [
    {
     "name": "stdout",
     "output_type": "stream",
     "text": [
      "[20.1 20.8 21.9 22.5 22.7 22.3 21.8 21.2 20.9 20.1]\n"
     ]
    }
   ],
   "source": [
    "cvalues = [20.1, 20.8, 21.9, 22.5, 22.7, 22.3, 21.8, 21.2, 20.9, 20.1]\n",
    "C = np.array(cvalues) #turning  our list \"cvalues\" to a one-dimensional numpy array\n",
    "print(C)"
   ]
  },
  {
   "cell_type": "code",
   "execution_count": 4,
   "id": "b62355e8",
   "metadata": {},
   "outputs": [
    {
     "name": "stdout",
     "output_type": "stream",
     "text": [
      "[68.18 69.44 71.42 72.5  72.86 72.14 71.24 70.16 69.62 68.18]\n",
      "[20.1 20.8 21.9 22.5 22.7 22.3 21.8 21.2 20.9 20.1]\n"
     ]
    }
   ],
   "source": [
    "print(C * 9 / 5 + 32) #converting to Fahrenheit\n",
    "print(C) #array C is unchanged by the expression"
   ]
  },
  {
   "cell_type": "code",
   "execution_count": 5,
   "id": "55c69260",
   "metadata": {},
   "outputs": [
    {
     "data": {
      "text/plain": [
       "numpy.ndarray"
      ]
     },
     "execution_count": 5,
     "metadata": {},
     "output_type": "execute_result"
    }
   ],
   "source": [
    "type(C)"
   ]
  },
  {
   "cell_type": "markdown",
   "id": "9ba11df8",
   "metadata": {},
   "source": [
    "Much easier to do with a numpy array than in normal Python, e.g."
   ]
  },
  {
   "cell_type": "code",
   "execution_count": 6,
   "id": "1b0f95f0",
   "metadata": {},
   "outputs": [
    {
     "name": "stdout",
     "output_type": "stream",
     "text": [
      "[68.18, 69.44, 71.42, 72.5, 72.86, 72.14, 71.24000000000001, 70.16, 69.62, 68.18]\n"
     ]
    }
   ],
   "source": [
    "fvalues = [ x*9/5 + 32 for x in cvalues] #Using Core Python\n",
    "print(fvalues)"
   ]
  },
  {
   "cell_type": "markdown",
   "id": "844117f8",
   "metadata": {},
   "source": [
    "### Time comparison between Python lists and NumPy arrays"
   ]
  },
  {
   "cell_type": "code",
   "execution_count": 19,
   "id": "8e021b6b",
   "metadata": {},
   "outputs": [],
   "source": [
    "import time\n",
    "size_of_vec = 1000000\n",
    "\n",
    "def pure_python_version():\n",
    "    t1 = time.time()\n",
    "    X = range(size_of_vec)\n",
    "    Y = range(size_of_vec)\n",
    "    Z = [X[i] + Y[i] for i in range(len(X)) ]\n",
    "    return time.time() - t1\n",
    "\n",
    "def numpy_version():\n",
    "    t1 = time.time()\n",
    "    X = np.arange(size_of_vec)    #has to call the module numpy by np.\n",
    "    Y = np.arange(size_of_vec)\n",
    "    Z = X + Y                     #vector sum\n",
    "    return time.time() - t1"
   ]
  },
  {
   "cell_type": "code",
   "execution_count": 20,
   "id": "778744c7",
   "metadata": {},
   "outputs": [
    {
     "name": "stdout",
     "output_type": "stream",
     "text": [
      "0.3218955993652344 0.00400543212890625\n",
      "Numpy is in this example 80.3647619047619 faster!\n"
     ]
    }
   ],
   "source": [
    "t1 = pure_python_version()\n",
    "t2 = numpy_version()\n",
    "\n",
    "print(t1, t2)\n",
    "print(\"Numpy is in this example \" + str(t1/t2) + \" faster!\")"
   ]
  },
  {
   "cell_type": "markdown",
   "id": "6590a94a",
   "metadata": {},
   "source": [
    "## Creating NumPy Arrays"
   ]
  },
  {
   "cell_type": "markdown",
   "id": "61d59333",
   "metadata": {},
   "source": [
    "We can create multi-dimensional arrays in NumPy. "
   ]
  },
  {
   "cell_type": "markdown",
   "id": "4bc94609",
   "metadata": {},
   "source": [
    "### Zero-dimensional Arrays: Scalars"
   ]
  },
  {
   "cell_type": "markdown",
   "id": "842743a6",
   "metadata": {},
   "source": [
    "x = np.array(13)\n",
    "print(type(x))\n",
    "print(np.ndim(x)) #number of dimensions"
   ]
  },
  {
   "cell_type": "markdown",
   "id": "69d2d6cb",
   "metadata": {},
   "source": [
    "### One-dimensional Arrays: Vectors"
   ]
  },
  {
   "cell_type": "markdown",
   "id": "8fbb3b59",
   "metadata": {},
   "source": [
    "Difference from lists is that arrays have to contain items of the same type (lists don't have to). Vectors are homogenous."
   ]
  },
  {
   "cell_type": "code",
   "execution_count": 26,
   "id": "1a4cec82",
   "metadata": {},
   "outputs": [
    {
     "name": "stdout",
     "output_type": "stream",
     "text": [
      "F:  [ 1  1  2  3  5  8 13 21]\n",
      "V:  [ 3.4  6.9 99.8 12.8]\n",
      "Type of F:  int32\n",
      "Type of V:  float64\n",
      "Dimension of F:  1\n",
      "Dimension of V:  1\n"
     ]
    }
   ],
   "source": [
    "F = np.array([1, 1, 2, 3, 5, 8, 13, 21])\n",
    "V = np.array([3.4, 6.9, 99.8, 12.8])\n",
    "print(\"F: \", F)\n",
    "print(\"V: \", V)\n",
    "print(\"Type of F: \", F.dtype) #dtype to find out the type of the whole vector\n",
    "print(\"Type of V: \", V.dtype)\n",
    "print(\"Dimension of F: \", np.ndim(F))\n",
    "print(\"Dimension of V: \", np.ndim(V))"
   ]
  },
  {
   "cell_type": "markdown",
   "id": "4bb9cc10",
   "metadata": {},
   "source": [
    "### Two- and Multidimensional Arrays (Matrices)"
   ]
  },
  {
   "cell_type": "markdown",
   "id": "3e37fd9c",
   "metadata": {},
   "source": [
    "We create multidimensional arrays by passing nested lists or tuples to the array method of numpy."
   ]
  },
  {
   "cell_type": "code",
   "execution_count": 27,
   "id": "7ba23203",
   "metadata": {},
   "outputs": [
    {
     "name": "stdout",
     "output_type": "stream",
     "text": [
      "[[ 3.4  8.7  9.9]\n",
      " [ 1.1 -7.8 -0.7]\n",
      " [ 4.1 12.3  4.8]]\n",
      "2\n"
     ]
    }
   ],
   "source": [
    "A = np.array([ [3.4, 8.7, 9.9], \n",
    "               [1.1, -7.8, -0.7],\n",
    "               [4.1, 12.3, 4.8]])\n",
    "print(A)\n",
    "print(A.ndim)"
   ]
  },
  {
   "cell_type": "code",
   "execution_count": 28,
   "id": "ee9b6e16",
   "metadata": {},
   "outputs": [
    {
     "name": "stdout",
     "output_type": "stream",
     "text": [
      "[[[111 112]\n",
      "  [121 122]]\n",
      "\n",
      " [[211 212]\n",
      "  [221 222]]\n",
      "\n",
      " [[311 312]\n",
      "  [321 322]]]\n",
      "3\n"
     ]
    }
   ],
   "source": [
    "B = np.array([ [[111, 112], [121, 122]],\n",
    "               [[211, 212], [221, 222]],\n",
    "               [[311, 312], [321, 322]] ])\n",
    "print(B)\n",
    "print(B.ndim)"
   ]
  },
  {
   "cell_type": "markdown",
   "id": "753a6e20",
   "metadata": {},
   "source": [
    "### Shape of an Array"
   ]
  },
  {
   "cell_type": "markdown",
   "id": "a9a2d1c8",
   "metadata": {},
   "source": [
    "The function \"shape\" returns the shape of an array. The shape is a tuple of integers, these denotate the lenghts of each dimension. The output (6, 3) denotates 6 rows and 3 columns. "
   ]
  },
  {
   "cell_type": "code",
   "execution_count": null,
   "id": "3dd824a6",
   "metadata": {},
   "outputs": [],
   "source": [
    "x = np.array([ [67, 63, 87],\n",
    "               [77, 69, 59],\n",
    "               [85, 87, 99],\n",
    "               [79, 72, 71],\n",
    "               [63, 89, 93],\n",
    "               [68, 92, 78]])\n",
    "print(np.shape(x))\n",
    "# or look at the property of x for the same output\n",
    "print(x.shape)"
   ]
  },
  {
   "cell_type": "markdown",
   "id": "864af392",
   "metadata": {},
   "source": [
    "Shape indicates the order in which the indices are processed: first rows, then columns and then the other dimensions. \"shape\" can als be used to change the shape of an array."
   ]
  },
  {
   "cell_type": "code",
   "execution_count": 32,
   "id": "25037dab",
   "metadata": {},
   "outputs": [
    {
     "name": "stdout",
     "output_type": "stream",
     "text": [
      "[[67 63 87 77 69 59]\n",
      " [85 87 99 79 72 71]\n",
      " [63 89 93 68 92 78]]\n"
     ]
    }
   ],
   "source": [
    "x.shape = (3, 6)\n",
    "print(x)"
   ]
  },
  {
   "cell_type": "markdown",
   "id": "f1f1af3c",
   "metadata": {},
   "source": [
    "### Indexing and Slicing"
   ]
  },
  {
   "cell_type": "markdown",
   "id": "d3d6d29e",
   "metadata": {},
   "source": [
    "Accessing elements of an array and indexing is similar to lists and tuples."
   ]
  },
  {
   "cell_type": "code",
   "execution_count": 33,
   "id": "8e8ff6bd",
   "metadata": {},
   "outputs": [
    {
     "name": "stdout",
     "output_type": "stream",
     "text": [
      "1\n",
      "21\n"
     ]
    }
   ],
   "source": [
    "# Single indexing\n",
    "\n",
    "F = np.array([1, 1, 2, 3, 5, 8, 13, 21])\n",
    "# print the first element of F\n",
    "print(F[0])\n",
    "# print the last element of F\n",
    "print(F[-1])"
   ]
  },
  {
   "cell_type": "code",
   "execution_count": 35,
   "id": "cbcf96fa",
   "metadata": {},
   "outputs": [
    {
     "name": "stdout",
     "output_type": "stream",
     "text": [
      "1.1\n",
      "[ 1.1 -7.8 -0.7]\n",
      "1.1\n"
     ]
    }
   ],
   "source": [
    "# Indexing multidimensional arrays\n",
    "\n",
    "A = np.array([ [3.4, 8.7, 9.9], \n",
    "               [1.1, -7.8, -0.7],\n",
    "               [4.1, 12.3, 4.8]])\n",
    "\n",
    "print(A[1][0]) \n",
    "# we're accessing the element in the 2nd row and 1st column\n",
    "\n",
    "# This is not as efficient as we are creating an \n",
    "# intermediate array:\n",
    "tmp = A[1]\n",
    "print(tmp)\n",
    "print(tmp[0])"
   ]
  },
  {
   "cell_type": "code",
   "execution_count": 36,
   "id": "b8b21781",
   "metadata": {},
   "outputs": [
    {
     "name": "stdout",
     "output_type": "stream",
     "text": [
      "1.1\n"
     ]
    }
   ],
   "source": [
    "print(A[1, 0]) # more efficient"
   ]
  },
  {
   "cell_type": "code",
   "execution_count": 37,
   "id": "9ad8d5ba",
   "metadata": {},
   "outputs": [
    {
     "name": "stdout",
     "output_type": "stream",
     "text": [
      "[2 3 4]\n",
      "[0 1 2 3]\n",
      "[6 7 8 9]\n",
      "[0 1 2 3 4 5 6 7 8 9]\n"
     ]
    }
   ],
   "source": [
    "# Slicing in the same way as with lists\n",
    "\n",
    "S = np.array([0, 1, 2, 3, 4, 5, 6, 7, 8, 9])\n",
    "print(S[2:5])\n",
    "print(S[:4])\n",
    "print(S[6:])\n",
    "print(S[:])"
   ]
  },
  {
   "cell_type": "code",
   "execution_count": 38,
   "id": "229ca693",
   "metadata": {},
   "outputs": [
    {
     "name": "stdout",
     "output_type": "stream",
     "text": [
      "[[13 14 15]\n",
      " [23 24 25]\n",
      " [33 34 35]]\n"
     ]
    }
   ],
   "source": [
    "# Multidimensional slicing\n",
    "\n",
    "A = np.array([\n",
    "[11, 12, 13, 14, 15],\n",
    "[21, 22, 23, 2\"4, 25],\n",
    "[31, 32, 33, 34, 35],\n",
    "[41, 42, 43, 44, 45],\n",
    "[51, 52, 53, 54, 55]])\n",
    "\n",
    "print(A[:3, 2:]) \n",
    "# all of the entries up to but not including 3,\n",
    "# all of the values starting at 2 up to the end.\n",
    "# rows first, then columns"
   ]
  },
  {
   "cell_type": "code",
   "execution_count": 44,
   "id": "a179b1b9",
   "metadata": {},
   "outputs": [
    {
     "name": "stdout",
     "output_type": "stream",
     "text": [
      "[[41 42 43 44 45]\n",
      " [51 52 53 54 55]]\n"
     ]
    }
   ],
   "source": [
    "print(A[3:, :]) #only in one direction"
   ]
  },
  {
   "cell_type": "code",
   "execution_count": 45,
   "id": "5b90c6b9",
   "metadata": {},
   "outputs": [
    {
     "name": "stdout",
     "output_type": "stream",
     "text": [
      "[[ 0  1  2  3  4  5  6]\n",
      " [ 7  8  9 10 11 12 13]\n",
      " [14 15 16 17 18 19 20]\n",
      " [21 22 23 24 25 26 27]]\n",
      "[[ 0  3  6]\n",
      " [14 17 20]]\n"
     ]
    }
   ],
   "source": [
    "X = np.arange(28).reshape(4, 7) # third parameter step\n",
    "print(X)\n",
    "print(X[::2, ::3])"
   ]
  },
  {
   "cell_type": "markdown",
   "id": "540f530d",
   "metadata": {},
   "source": [
    "New view on the original array - performance benefits, we're not making any copies, but we're changing the original arrays."
   ]
  },
  {
   "cell_type": "markdown",
   "id": "5391451c",
   "metadata": {},
   "source": [
    "### Initializing Arrays with Ones and Zeros"
   ]
  },
  {
   "cell_type": "markdown",
   "id": "54c13093",
   "metadata": {},
   "source": [
    "There are two ways of initializing arrays with zeros and ones. Method one takes a tuple t with the shape of an array and fills it with ones (or zeros). By default it will be Ones of type float."
   ]
  },
  {
   "cell_type": "code",
   "execution_count": 46,
   "id": "52204a27",
   "metadata": {},
   "outputs": [
    {
     "name": "stdout",
     "output_type": "stream",
     "text": [
      "[[1. 1. 1.]\n",
      " [1. 1. 1.]]\n",
      "[[1 1 1 1]\n",
      " [1 1 1 1]\n",
      " [1 1 1 1]]\n"
     ]
    }
   ],
   "source": [
    "# Ones\n",
    "E = np.ones((2,3))\n",
    "print(E)\n",
    "\n",
    "F = np.ones((3,4),dtype=int)\n",
    "print(F)"
   ]
  },
  {
   "cell_type": "code",
   "execution_count": 47,
   "id": "a8caf872",
   "metadata": {},
   "outputs": [
    {
     "name": "stdout",
     "output_type": "stream",
     "text": [
      "[[0. 0. 0. 0.]\n",
      " [0. 0. 0. 0.]]\n"
     ]
    }
   ],
   "source": [
    "# Zeros\n",
    "Z = np.zeros((2,4))\n",
    "print(Z)"
   ]
  },
  {
   "cell_type": "code",
   "execution_count": 48,
   "id": "21a250f2",
   "metadata": {},
   "outputs": [
    {
     "name": "stdout",
     "output_type": "stream",
     "text": [
      "[1 1 1 1 1]\n",
      "[0 0 0 0 0]\n"
     ]
    }
   ],
   "source": [
    "# Zeros, and same shape as an existing array 'a'\n",
    "x = np.array([2,5,18,14,4])\n",
    "E = np.ones_like(x)\n",
    "print(E)\n",
    "\n",
    "Z = np.zeros_like(x)\n",
    "print(Z)"
   ]
  },
  {
   "cell_type": "markdown",
   "id": "cec8bd5f",
   "metadata": {},
   "source": [
    "### Identity matrix / Identity Array"
   ]
  },
  {
   "cell_type": "markdown",
   "id": "ccb01eab",
   "metadata": {},
   "source": [
    "In linear algebra, the identity matrix, or unit matrix, of size n is the n × n **square matrix** with ones on the main diagonal and zeros elsewhere. Two types: the identity function, the eye function."
   ]
  },
  {
   "cell_type": "code",
   "execution_count": 49,
   "id": "65464520",
   "metadata": {},
   "outputs": [
    {
     "data": {
      "text/plain": [
       "array([[1., 0., 0., 0.],\n",
       "       [0., 1., 0., 0.],\n",
       "       [0., 0., 1., 0.],\n",
       "       [0., 0., 0., 1.]])"
      ]
     },
     "execution_count": 49,
     "metadata": {},
     "output_type": "execute_result"
    }
   ],
   "source": [
    "# identity function, identity(n, dtype = None)\n",
    "# n is an int, defines the n of rows and columns\n",
    "# dtype, default is float\n",
    "\n",
    "np.identity(4)"
   ]
  },
  {
   "cell_type": "code",
   "execution_count": 51,
   "id": "42ace342",
   "metadata": {},
   "outputs": [
    {
     "data": {
      "text/plain": [
       "array([[1, 0, 0, 0],\n",
       "       [0, 1, 0, 0],\n",
       "       [0, 0, 1, 0],\n",
       "       [0, 0, 0, 1]])"
      ]
     },
     "execution_count": 51,
     "metadata": {},
     "output_type": "execute_result"
    }
   ],
   "source": [
    "np.identity(4, dtype=int)"
   ]
  },
  {
   "cell_type": "code",
   "execution_count": 58,
   "id": "e9ed4014",
   "metadata": {},
   "outputs": [
    {
     "data": {
      "text/plain": [
       "array([[0, 1, 0, 0, 0, 0, 0, 0],\n",
       "       [0, 0, 1, 0, 0, 0, 0, 0],\n",
       "       [0, 0, 0, 1, 0, 0, 0, 0],\n",
       "       [0, 0, 0, 0, 1, 0, 0, 0],\n",
       "       [0, 0, 0, 0, 0, 1, 0, 0]])"
      ]
     },
     "execution_count": 58,
     "metadata": {},
     "output_type": "execute_result"
    }
   ],
   "source": [
    "# eye function, eye(N, M = None, k = 0, dtype = float)\n",
    "# can be rectangular!\n",
    "# N is the n of rows, M is the n of columns (default is N)\n",
    "# k is the position of diagonal, 0 is main diagonal\n",
    "\n",
    "np.eye(5, 8, k=1, dtype=int)"
   ]
  }
 ],
 "metadata": {
  "kernelspec": {
   "display_name": "Python 3 (ipykernel)",
   "language": "python",
   "name": "python3"
  },
  "language_info": {
   "codemirror_mode": {
    "name": "ipython",
    "version": 3
   },
   "file_extension": ".py",
   "mimetype": "text/x-python",
   "name": "python",
   "nbconvert_exporter": "python",
   "pygments_lexer": "ipython3",
   "version": "3.11.4"
  }
 },
 "nbformat": 4,
 "nbformat_minor": 5
}
